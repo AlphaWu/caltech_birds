{
 "cells": [
  {
   "cell_type": "code",
   "execution_count": 2,
   "metadata": {},
   "outputs": [],
   "source": [
    "from __future__ import print_function, division\n",
    "\n",
    "import torch\n",
    "import torch.nn as nn\n",
    "import torch.optim as optim\n",
    "from torch.optim import lr_scheduler\n",
    "\n",
    "import torchvision\n",
    "import torchvision.transforms as transforms\n",
    "from torchvision import datasets, models\n",
    "\n",
    "from imutils import paths\n",
    "from pathlib import Path\n",
    "import os, sys\n",
    "import time\n",
    "import copy\n",
    "\n",
    "import pandas as pd\n",
    "import matplotlib.pylab as plt\n",
    "import numpy as np\n",
    "\n",
    "# Local modules\n",
    "sys.path.append('../src')\n",
    "from train import train_model\n",
    "from visualize import imshow, visualize_model"
   ]
  },
  {
   "cell_type": "code",
   "execution_count": 3,
   "metadata": {},
   "outputs": [],
   "source": [
    "# Script runtime options\n",
    "root_dir = '../data'\n",
    "data_dir = os.path.join(root_dir,'images')"
   ]
  },
  {
   "cell_type": "code",
   "execution_count": 4,
   "metadata": {},
   "outputs": [],
   "source": [
    "# Get image generator object of bird images\n",
    "imageFolder = torchvision.datasets.ImageFolder(data_dir)"
   ]
  },
  {
   "cell_type": "code",
   "execution_count": 13,
   "metadata": {},
   "outputs": [
    {
     "data": {
      "text/plain": [
       "Dataset ImageFolder\n",
       "    Number of datapoints: 11788\n",
       "    Root location: ../data/images"
      ]
     },
     "execution_count": 13,
     "metadata": {},
     "output_type": "execute_result"
    }
   ],
   "source": [
    "imageFolder"
   ]
  },
  {
   "cell_type": "code",
   "execution_count": 7,
   "metadata": {},
   "outputs": [],
   "source": [
    "image_fnames = pd.read_csv(filepath_or_buffer=os.path.join(root_dir,'images.txt'), header=None, delimiter=' ', names=['Img ID', 'file path'])\n",
    "image_fnames['is training image?'] = pd.read_csv(filepath_or_buffer=os.path.join(root_dir,'train_test_split.txt'), header=None, delimiter=' ', names=['Img ID','is training image?'])['is training image?']"
   ]
  },
  {
   "cell_type": "code",
   "execution_count": 8,
   "metadata": {},
   "outputs": [],
   "source": [
    "# Data augmentation and normalization for training\n",
    "# Just normalization for validation\n",
    "data_transforms = {\n",
    "    'train': transforms.Compose([\n",
    "        transforms.RandomResizedCrop(224),\n",
    "        transforms.RandomHorizontalFlip(),\n",
    "        transforms.ToTensor(),\n",
    "        transforms.Normalize([0.485, 0.456, 0.406], [0.229, 0.224, 0.225])\n",
    "    ]),\n",
    "    'test': transforms.Compose([\n",
    "        transforms.Resize(256),\n",
    "        transforms.CenterCrop(224),\n",
    "        transforms.ToTensor(),\n",
    "        transforms.Normalize([0.485, 0.456, 0.406], [0.229, 0.224, 0.225])\n",
    "    ]),\n",
    "}"
   ]
  },
  {
   "cell_type": "code",
   "execution_count": 9,
   "metadata": {},
   "outputs": [],
   "source": [
    "# Setup data loaders with augmentation transforms\n",
    "image_datasets = {x: datasets.ImageFolder(os.path.join(data_dir, x), data_transforms[x])\n",
    "                  for x in ['train', 'test']}\n",
    "dataloaders = {x: torch.utils.data.DataLoader(image_datasets[x], batch_size=4,\n",
    "                                             shuffle=True, num_workers=4)\n",
    "              for x in ['train', 'test']}\n",
    "dataset_sizes = {x: len(image_datasets[x]) for x in ['train', 'test']}\n",
    "class_names = image_datasets['train'].classes"
   ]
  },
  {
   "cell_type": "code",
   "execution_count": 12,
   "metadata": {},
   "outputs": [
    {
     "data": {
      "text/plain": [
       "['001.Black_footed_Albatross',\n",
       " '002.Laysan_Albatross',\n",
       " '003.Sooty_Albatross',\n",
       " '004.Groove_billed_Ani',\n",
       " '005.Crested_Auklet',\n",
       " '006.Least_Auklet',\n",
       " '007.Parakeet_Auklet',\n",
       " '008.Rhinoceros_Auklet',\n",
       " '009.Brewer_Blackbird',\n",
       " '010.Red_winged_Blackbird',\n",
       " '011.Rusty_Blackbird',\n",
       " '012.Yellow_headed_Blackbird',\n",
       " '013.Bobolink',\n",
       " '014.Indigo_Bunting',\n",
       " '015.Lazuli_Bunting',\n",
       " '016.Painted_Bunting',\n",
       " '017.Cardinal',\n",
       " '018.Spotted_Catbird',\n",
       " '019.Gray_Catbird',\n",
       " '020.Yellow_breasted_Chat',\n",
       " '021.Eastern_Towhee',\n",
       " '022.Chuck_will_Widow',\n",
       " '023.Brandt_Cormorant',\n",
       " '024.Red_faced_Cormorant',\n",
       " '025.Pelagic_Cormorant',\n",
       " '026.Bronzed_Cowbird',\n",
       " '027.Shiny_Cowbird',\n",
       " '028.Brown_Creeper',\n",
       " '029.American_Crow',\n",
       " '030.Fish_Crow',\n",
       " '031.Black_billed_Cuckoo',\n",
       " '032.Mangrove_Cuckoo',\n",
       " '033.Yellow_billed_Cuckoo',\n",
       " '034.Gray_crowned_Rosy_Finch',\n",
       " '035.Purple_Finch',\n",
       " '036.Northern_Flicker',\n",
       " '037.Acadian_Flycatcher',\n",
       " '038.Great_Crested_Flycatcher',\n",
       " '039.Least_Flycatcher',\n",
       " '040.Olive_sided_Flycatcher',\n",
       " '041.Scissor_tailed_Flycatcher',\n",
       " '042.Vermilion_Flycatcher',\n",
       " '043.Yellow_bellied_Flycatcher',\n",
       " '044.Frigatebird',\n",
       " '045.Northern_Fulmar',\n",
       " '046.Gadwall',\n",
       " '047.American_Goldfinch',\n",
       " '048.European_Goldfinch',\n",
       " '049.Boat_tailed_Grackle',\n",
       " '050.Eared_Grebe',\n",
       " '051.Horned_Grebe',\n",
       " '052.Pied_billed_Grebe',\n",
       " '053.Western_Grebe',\n",
       " '054.Blue_Grosbeak',\n",
       " '055.Evening_Grosbeak',\n",
       " '056.Pine_Grosbeak',\n",
       " '057.Rose_breasted_Grosbeak',\n",
       " '058.Pigeon_Guillemot',\n",
       " '059.California_Gull',\n",
       " '060.Glaucous_winged_Gull',\n",
       " '061.Heermann_Gull',\n",
       " '062.Herring_Gull',\n",
       " '063.Ivory_Gull',\n",
       " '064.Ring_billed_Gull',\n",
       " '065.Slaty_backed_Gull',\n",
       " '066.Western_Gull',\n",
       " '067.Anna_Hummingbird',\n",
       " '068.Ruby_throated_Hummingbird',\n",
       " '069.Rufous_Hummingbird',\n",
       " '070.Green_Violetear',\n",
       " '071.Long_tailed_Jaeger',\n",
       " '072.Pomarine_Jaeger',\n",
       " '073.Blue_Jay',\n",
       " '074.Florida_Jay',\n",
       " '075.Green_Jay',\n",
       " '076.Dark_eyed_Junco',\n",
       " '077.Tropical_Kingbird',\n",
       " '078.Gray_Kingbird',\n",
       " '079.Belted_Kingfisher',\n",
       " '080.Green_Kingfisher',\n",
       " '081.Pied_Kingfisher',\n",
       " '082.Ringed_Kingfisher',\n",
       " '083.White_breasted_Kingfisher',\n",
       " '084.Red_legged_Kittiwake',\n",
       " '085.Horned_Lark',\n",
       " '086.Pacific_Loon',\n",
       " '087.Mallard',\n",
       " '088.Western_Meadowlark',\n",
       " '089.Hooded_Merganser',\n",
       " '090.Red_breasted_Merganser',\n",
       " '091.Mockingbird',\n",
       " '092.Nighthawk',\n",
       " '093.Clark_Nutcracker',\n",
       " '094.White_breasted_Nuthatch',\n",
       " '095.Baltimore_Oriole',\n",
       " '096.Hooded_Oriole',\n",
       " '097.Orchard_Oriole',\n",
       " '098.Scott_Oriole',\n",
       " '099.Ovenbird',\n",
       " '100.Brown_Pelican',\n",
       " '101.White_Pelican',\n",
       " '102.Western_Wood_Pewee',\n",
       " '103.Sayornis',\n",
       " '104.American_Pipit',\n",
       " '105.Whip_poor_Will',\n",
       " '106.Horned_Puffin',\n",
       " '107.Common_Raven',\n",
       " '108.White_necked_Raven',\n",
       " '109.American_Redstart',\n",
       " '110.Geococcyx',\n",
       " '111.Loggerhead_Shrike',\n",
       " '112.Great_Grey_Shrike',\n",
       " '113.Baird_Sparrow',\n",
       " '114.Black_throated_Sparrow',\n",
       " '115.Brewer_Sparrow',\n",
       " '116.Chipping_Sparrow',\n",
       " '117.Clay_colored_Sparrow',\n",
       " '118.House_Sparrow',\n",
       " '119.Field_Sparrow',\n",
       " '120.Fox_Sparrow',\n",
       " '121.Grasshopper_Sparrow',\n",
       " '122.Harris_Sparrow',\n",
       " '123.Henslow_Sparrow',\n",
       " '124.Le_Conte_Sparrow',\n",
       " '125.Lincoln_Sparrow',\n",
       " '126.Nelson_Sharp_tailed_Sparrow',\n",
       " '127.Savannah_Sparrow',\n",
       " '128.Seaside_Sparrow',\n",
       " '129.Song_Sparrow',\n",
       " '130.Tree_Sparrow',\n",
       " '131.Vesper_Sparrow',\n",
       " '132.White_crowned_Sparrow',\n",
       " '133.White_throated_Sparrow',\n",
       " '134.Cape_Glossy_Starling',\n",
       " '135.Bank_Swallow',\n",
       " '136.Barn_Swallow',\n",
       " '137.Cliff_Swallow',\n",
       " '138.Tree_Swallow',\n",
       " '139.Scarlet_Tanager',\n",
       " '140.Summer_Tanager',\n",
       " '141.Artic_Tern',\n",
       " '142.Black_Tern',\n",
       " '143.Caspian_Tern',\n",
       " '144.Common_Tern',\n",
       " '145.Elegant_Tern',\n",
       " '146.Forsters_Tern',\n",
       " '147.Least_Tern',\n",
       " '148.Green_tailed_Towhee',\n",
       " '149.Brown_Thrasher',\n",
       " '150.Sage_Thrasher',\n",
       " '151.Black_capped_Vireo',\n",
       " '152.Blue_headed_Vireo',\n",
       " '153.Philadelphia_Vireo',\n",
       " '154.Red_eyed_Vireo',\n",
       " '155.Warbling_Vireo',\n",
       " '156.White_eyed_Vireo',\n",
       " '157.Yellow_throated_Vireo',\n",
       " '158.Bay_breasted_Warbler',\n",
       " '159.Black_and_white_Warbler',\n",
       " '160.Black_throated_Blue_Warbler',\n",
       " '161.Blue_winged_Warbler',\n",
       " '162.Canada_Warbler',\n",
       " '163.Cape_May_Warbler',\n",
       " '164.Cerulean_Warbler',\n",
       " '165.Chestnut_sided_Warbler',\n",
       " '166.Golden_winged_Warbler',\n",
       " '167.Hooded_Warbler',\n",
       " '168.Kentucky_Warbler',\n",
       " '169.Magnolia_Warbler',\n",
       " '170.Mourning_Warbler',\n",
       " '171.Myrtle_Warbler',\n",
       " '172.Nashville_Warbler',\n",
       " '173.Orange_crowned_Warbler',\n",
       " '174.Palm_Warbler',\n",
       " '175.Pine_Warbler',\n",
       " '176.Prairie_Warbler',\n",
       " '177.Prothonotary_Warbler',\n",
       " '178.Swainson_Warbler',\n",
       " '179.Tennessee_Warbler',\n",
       " '180.Wilson_Warbler',\n",
       " '181.Worm_eating_Warbler',\n",
       " '182.Yellow_Warbler',\n",
       " '183.Northern_Waterthrush',\n",
       " '184.Louisiana_Waterthrush',\n",
       " '185.Bohemian_Waxwing',\n",
       " '186.Cedar_Waxwing',\n",
       " '187.American_Three_toed_Woodpecker',\n",
       " '188.Pileated_Woodpecker',\n",
       " '189.Red_bellied_Woodpecker',\n",
       " '190.Red_cockaded_Woodpecker',\n",
       " '191.Red_headed_Woodpecker',\n",
       " '192.Downy_Woodpecker',\n",
       " '193.Bewick_Wren',\n",
       " '194.Cactus_Wren',\n",
       " '195.Carolina_Wren',\n",
       " '196.House_Wren',\n",
       " '197.Marsh_Wren',\n",
       " '198.Rock_Wren',\n",
       " '199.Winter_Wren',\n",
       " '200.Common_Yellowthroat']"
      ]
     },
     "execution_count": 12,
     "metadata": {},
     "output_type": "execute_result"
    }
   ],
   "source": [
    "image_datasets['train'].classes"
   ]
  },
  {
   "cell_type": "code",
   "execution_count": null,
   "metadata": {},
   "outputs": [],
   "source": [
    "# Setup the device to run the computations\n",
    "device = torch.device(\"cuda:0\" if torch.cuda.is_available() else \"cpu\")\n",
    "print('Device::', device)"
   ]
  },
  {
   "cell_type": "code",
   "execution_count": null,
   "metadata": {},
   "outputs": [],
   "source": [
    "# Check the augmentations\n",
    "# Get a batch of training data\n",
    "inputs, classes = next(iter(dataloaders['train']))\n",
    "\n",
    "# Make a grid from batch\n",
    "out = torchvision.utils.make_grid(inputs)\n",
    "\n",
    "imshow(out, title=[class_names[x] for x in classes])"
   ]
  },
  {
   "cell_type": "markdown",
   "metadata": {},
   "source": [
    "# Load a pre-trained model on ImageNet and train"
   ]
  },
  {
   "cell_type": "code",
   "execution_count": null,
   "metadata": {},
   "outputs": [],
   "source": [
    "# Setup the model and optimiser\n",
    "\n",
    "model_ft = models.resnet152(pretrained=True)\n",
    "num_ftrs = model_ft.fc.in_features\n",
    "# Here the size of each output sample is set to 2.\n",
    "# Alternatively, it can be generalized to nn.Linear(num_ftrs, len(class_names)).\n",
    "model_ft.fc = nn.Linear(num_ftrs, len(class_names))\n",
    "\n",
    "model_ft = model_ft.to(device)\n",
    "\n",
    "criterion = nn.CrossEntropyLoss()\n",
    "\n",
    "# Observe that all parameters are being optimized\n",
    "optimizer_ft = optim.SGD(model_ft.parameters(), lr=0.001, momentum=0.9)\n",
    "\n",
    "# Decay LR by a factor of 0.1 every 7 epochs\n",
    "exp_lr_scheduler = lr_scheduler.StepLR(optimizer_ft, step_size=7, gamma=0.1)"
   ]
  },
  {
   "cell_type": "code",
   "execution_count": null,
   "metadata": {},
   "outputs": [],
   "source": [
    "model_ft = train_model(model=model_ft, criterion=criterion, optimizer=optimizer_ft, scheduler=exp_lr_scheduler, \n",
    "                       device=device, dataloaders=dataloaders, dataset_sizes=dataset_sizes, num_epochs=40)"
   ]
  },
  {
   "cell_type": "code",
   "execution_count": null,
   "metadata": {},
   "outputs": [],
   "source": [
    "save_model_full(model=model_ft, PATH='models/classification/caltech_birds_resnet152_full.pth')\n",
    "save_model_dict(model=model_ft, PATH='models/classification/caltech_birds_resnet152_dict.pth')"
   ]
  },
  {
   "cell_type": "code",
   "execution_count": null,
   "metadata": {},
   "outputs": [],
   "source": [
    "visualize_model(model=model_ft, class_names=class_names, device=device, dataloaders=dataloaders)"
   ]
  },
  {
   "cell_type": "markdown",
   "metadata": {},
   "source": [
    "# Load Pretrained Model from File"
   ]
  },
  {
   "cell_type": "code",
   "execution_count": null,
   "metadata": {},
   "outputs": [],
   "source": [
    "model_ft = models.resnet152(pretrained=True)\n",
    "model_ft.fc = nn.Linear(model_ft.fc.in_features, len(class_names))"
   ]
  },
  {
   "cell_type": "code",
   "execution_count": null,
   "metadata": {},
   "outputs": [],
   "source": [
    "model_ft.load_state_dict(torch.load('models/classification/caltech_birds_resnet152_dict.pth'))\n",
    "model_ft.eval()"
   ]
  },
  {
   "cell_type": "code",
   "execution_count": null,
   "metadata": {},
   "outputs": [],
   "source": [
    "visualize_model(model=model_ft, class_names=class_names, device=device, dataloaders=dataloaders)"
   ]
  },
  {
   "cell_type": "code",
   "execution_count": null,
   "metadata": {},
   "outputs": [],
   "source": []
  }
 ],
 "metadata": {
  "file_extension": ".py",
  "kernelspec": {
   "display_name": "Python 3.7.6 64-bit ('py37_pytorch': conda)",
   "language": "python",
   "name": "python37664bitpy37pytorchconda5037f5dcc6574b5c975ef80bcc16f697"
  },
  "language_info": {
   "codemirror_mode": {
    "name": "ipython",
    "version": 3
   },
   "file_extension": ".py",
   "mimetype": "text/x-python",
   "name": "python",
   "nbconvert_exporter": "python",
   "pygments_lexer": "ipython3",
   "version": "3.7.6"
  },
  "mimetype": "text/x-python",
  "name": "python",
  "npconvert_exporter": "python",
  "pygments_lexer": "ipython3",
  "version": 3
 },
 "nbformat": 4,
 "nbformat_minor": 4
}
