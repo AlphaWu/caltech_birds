{
 "cells": [
  {
   "cell_type": "code",
   "execution_count": 1,
   "metadata": {},
   "outputs": [],
   "source": [
    "import os\n",
    "import sys\n",
    "\n",
    "from matplotlib import pyplot as plt\n",
    "import random\n",
    "import math\n",
    "import shutil"
   ]
  },
  {
   "cell_type": "code",
   "execution_count": 2,
   "metadata": {},
   "outputs": [],
   "source": [
    "def load_train_test_split(dataset_path=''):\n",
    "    train_images = []\n",
    "    test_images = []\n",
    "    with open(os.path.join(dataset_path, 'train_test_split.txt')) as f:\n",
    "        for line in f:\n",
    "            pieces = line.strip().split()\n",
    "            image_id = pieces[0]\n",
    "            is_train = int(pieces[1])\n",
    "            if is_train:\n",
    "                train_images.append(image_id)\n",
    "            else:\n",
    "                test_images.append(image_id)\n",
    "    return train_images, test_images\n",
    "\n",
    "def load_class_names(dataset_path=''):\n",
    "    names = {}\n",
    "    with open(os.path.join(dataset_path, 'classes.txt')) as f:\n",
    "        for line in f:\n",
    "            pieces = line.strip().split()\n",
    "            class_id = pieces[0]\n",
    "            names[class_id] = ' '.join(pieces[1:])\n",
    "    return names\n",
    "\n",
    "def load_image_labels(dataset_path=''):\n",
    "    labels = {}\n",
    "    with open(os.path.join(dataset_path, 'image_class_labels.txt')) as f:\n",
    "        for line in f:\n",
    "            pieces = line.strip().split()\n",
    "            image_id = pieces[0]\n",
    "            class_id = pieces[1]\n",
    "            labels[image_id] = class_id\n",
    "    return labels\n",
    "        \n",
    "def load_image_paths(dataset_path='', path_prefix=''):\n",
    "    paths = {}\n",
    "    with open(os.path.join(dataset_path, 'images.txt')) as f:\n",
    "        for line in f:\n",
    "            pieces = line.strip().split()\n",
    "            image_id = pieces[0]\n",
    "            path = os.path.join(path_prefix, pieces[1])\n",
    "            paths[image_id] = path\n",
    "    return paths"
   ]
  },
  {
   "cell_type": "code",
   "execution_count": 3,
   "metadata": {},
   "outputs": [],
   "source": [
    "root_data_dir = '../data_nabirds'\n",
    "old_images_dir = 'images'\n",
    "new_images_dir = 'images_sorted'"
   ]
  },
  {
   "cell_type": "code",
   "execution_count": 4,
   "metadata": {},
   "outputs": [],
   "source": [
    "train, test = load_train_test_split(dataset_path=root_data_dir)\n",
    "labels = load_image_labels(dataset_path=root_data_dir)\n",
    "image_paths = load_image_paths(dataset_path=root_data_dir)"
   ]
  },
  {
   "cell_type": "code",
   "execution_count": 5,
   "metadata": {},
   "outputs": [],
   "source": [
    "images_train_dir = os.path.join(root_data_dir,new_images_dir,'train')\n",
    "images_test_dir = os.path.join(root_data_dir,new_images_dir,'test')\n",
    "\n",
    "os.makedirs(os.path.join(root_data_dir,new_images_dir), exist_ok=True)\n",
    "os.makedirs(images_train_dir, exist_ok=True)\n",
    "os.makedirs(images_test_dir, exist_ok=True)"
   ]
  },
  {
   "cell_type": "code",
   "execution_count": 6,
   "metadata": {},
   "outputs": [],
   "source": [
    "for image in train:\n",
    "    new_dir = os.path.join(images_train_dir,image_paths[image].split('/')[0])\n",
    "    old_path_image = os.path.join(root_data_dir,old_images_dir,image_paths[image])\n",
    "    new_path_image = os.path.join(images_train_dir,image_paths[image])\n",
    "    os.makedirs(new_dir, exist_ok=True)\n",
    "    #os.symlink(old_path_image, new_path_image)\n",
    "    shutil.move(old_path_image, new_path_image)"
   ]
  },
  {
   "cell_type": "code",
   "execution_count": 7,
   "metadata": {},
   "outputs": [],
   "source": [
    "for image in test:\n",
    "    new_dir = os.path.join(images_test_dir,image_paths[image].split('/')[0])\n",
    "    old_path_image = os.path.join(root_data_dir,old_images_dir,image_paths[image])\n",
    "    new_path_image = os.path.join(images_test_dir,image_paths[image])\n",
    "    os.makedirs(new_dir, exist_ok=True)\n",
    "    #os.symlink(old_path_image, new_path_image)\n",
    "    shutil.move(old_path_image, new_path_image)"
   ]
  },
  {
   "cell_type": "code",
   "execution_count": null,
   "metadata": {},
   "outputs": [],
   "source": []
  }
 ],
 "metadata": {
  "kernelspec": {
   "display_name": "py37_pytorch",
   "language": "python",
   "name": "conda-env-py37_pytorch-py"
  },
  "language_info": {
   "codemirror_mode": {
    "name": "ipython",
    "version": 3
   },
   "file_extension": ".py",
   "mimetype": "text/x-python",
   "name": "python",
   "nbconvert_exporter": "python",
   "pygments_lexer": "ipython3",
   "version": "3.7.6"
  }
 },
 "nbformat": 4,
 "nbformat_minor": 4
}
