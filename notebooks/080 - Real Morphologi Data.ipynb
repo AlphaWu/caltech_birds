{
 "cells": [
  {
   "cell_type": "code",
   "execution_count": 1,
   "metadata": {},
   "outputs": [],
   "source": [
    "from shape2series.experiments import StoreMorphologiShapeSeries\n",
    "import toml"
   ]
  },
  {
   "cell_type": "code",
   "execution_count": 2,
   "metadata": {},
   "outputs": [],
   "source": [
    "config = toml.load(open('../../experiments/morphologi_1.toml'))"
   ]
  },
  {
   "cell_type": "code",
   "execution_count": 18,
   "metadata": {},
   "outputs": [
    {
     "name": "stderr",
     "output_type": "stream",
     "text": [
      "2020-05-17 21:14:11.316 | INFO     | shape2series.experiments:__init__:65 - Detected 1 total runs.\n"
     ]
    }
   ],
   "source": [
    "exp = StoreMorphologiShapeSeries(config=config, working_dir='../../../', log_level='INFO')"
   ]
  },
  {
   "cell_type": "code",
   "execution_count": 19,
   "metadata": {},
   "outputs": [
    {
     "name": "stderr",
     "output_type": "stream",
     "text": [
      "2020-05-17 21:14:12.306 | INFO     | shape2series.experiments:run:70 - Running Experiment Suite: Morphologi-Shapes\n",
      "2020-05-17 21:14:12.307 | INFO     | shape2series.experiments:run:83 - Begining experiment 1 of 1\n",
      "2020-05-17 21:20:05.864 | INFO     | shape2series.experiments:run_pipeline:168 - Saved all images and objects to C:\\Users\\Chris.Musselle\\malvern\\projects\\secondary\\shape-to-series\\results\\Morphologi-Shapes\\images.hdf5\n",
      "2020-05-17 21:20:05.865 | INFO     | shape2series.experiments:run_pipeline:169 - 0 images failed processing.\n"
     ]
    }
   ],
   "source": [
    "exp.run()"
   ]
  },
  {
   "cell_type": "code",
   "execution_count": 20,
   "metadata": {},
   "outputs": [
    {
     "data": {
      "text/plain": [
       "[WindowsPath('C:/Users/Chris.Musselle/malvern/projects/secondary/shape-to-series/results/Morphologi-Shapes/images.hdf5')]"
      ]
     },
     "execution_count": 20,
     "metadata": {},
     "output_type": "execute_result"
    }
   ],
   "source": [
    "list(exp.results_dir.iterdir())"
   ]
  },
  {
   "cell_type": "markdown",
   "metadata": {},
   "source": [
    "# Investigate Distribution of Contour Area and Perimeter"
   ]
  },
  {
   "cell_type": "code",
   "execution_count": 3,
   "metadata": {},
   "outputs": [],
   "source": [
    "import h5py"
   ]
  },
  {
   "cell_type": "code",
   "execution_count": 11,
   "metadata": {},
   "outputs": [],
   "source": [
    "import numpy as np\n",
    "import matplotlib.pyplot as plt\n",
    "import seaborn as sb\n",
    "# sb.set_context('notebook')"
   ]
  },
  {
   "cell_type": "code",
   "execution_count": 12,
   "metadata": {},
   "outputs": [
    {
     "name": "stdout",
     "output_type": "stream",
     "text": [
      "Using matplotlib backend: Qt5Agg\n"
     ]
    }
   ],
   "source": [
    "%matplotlib"
   ]
  },
  {
   "cell_type": "code",
   "execution_count": 13,
   "metadata": {},
   "outputs": [],
   "source": [
    "plt.rc('figure', figsize=(12,6))"
   ]
  },
  {
   "cell_type": "code",
   "execution_count": 14,
   "metadata": {},
   "outputs": [],
   "source": [
    "f = h5py.File('../../../results/Morphologi-Shapes/images.hdf5')"
   ]
  },
  {
   "cell_type": "code",
   "execution_count": 15,
   "metadata": {},
   "outputs": [],
   "source": [
    "def fetch_contour_properties(key):\n",
    "    values = []\n",
    "    for image in f['images'].keys():\n",
    "        contour = f['contours'][f'{image}-0']\n",
    "        values.append(contour.attrs[key])\n",
    "        \n",
    "    return values"
   ]
  },
  {
   "cell_type": "code",
   "execution_count": 9,
   "metadata": {},
   "outputs": [],
   "source": [
    "image_areas = fetch_contour_properties(key='area')\n",
    "image_perimeters = fetch_contour_properties(key='perimeter')\n",
    "image_eccentricity = fetch_contour_properties(key='eccentricity')\n",
    "image_solidity = fetch_contour_properties(key='solidity')"
   ]
  },
  {
   "cell_type": "code",
   "execution_count": 16,
   "metadata": {},
   "outputs": [
    {
     "data": {
      "text/plain": [
       "<matplotlib.axes._subplots.AxesSubplot at 0x20c886f8f88>"
      ]
     },
     "execution_count": 16,
     "metadata": {},
     "output_type": "execute_result"
    }
   ],
   "source": [
    "sb.distplot(image_areas, bins=1000, kde=False)"
   ]
  },
  {
   "cell_type": "code",
   "execution_count": 17,
   "metadata": {},
   "outputs": [
    {
     "data": {
      "text/plain": [
       "<matplotlib.axes._subplots.AxesSubplot at 0x20c886f8f88>"
      ]
     },
     "execution_count": 17,
     "metadata": {},
     "output_type": "execute_result"
    }
   ],
   "source": [
    "sb.distplot(image_perimeters, bins=200, kde=False)"
   ]
  },
  {
   "cell_type": "markdown",
   "metadata": {},
   "source": [
    "Area: $A = \\pi r^2$\n",
    "\n",
    "Circumference: $C = 2 \\pi r$\n",
    "\n",
    "\n"
   ]
  },
  {
   "cell_type": "markdown",
   "metadata": {},
   "source": [
    "$r = \\sqrt{A / \\pi}$ "
   ]
  },
  {
   "cell_type": "markdown",
   "metadata": {},
   "source": [
    "$C = 2 \\pi \\sqrt{A / \\pi} $\n",
    "\n",
    "$C^2 = 4 \\pi A $\n",
    "\n",
    "$C = 2 \\sqrt{\\pi A} $"
   ]
  },
  {
   "cell_type": "code",
   "execution_count": 18,
   "metadata": {},
   "outputs": [],
   "source": [
    "xs = np.linspace(0, max(image_areas), 5000)\n",
    "ys = 2 * np.sqrt(np.pi * xs)"
   ]
  },
  {
   "cell_type": "code",
   "execution_count": 19,
   "metadata": {},
   "outputs": [
    {
     "data": {
      "text/plain": [
       "[<matplotlib.lines.Line2D at 0x20c885beb08>]"
      ]
     },
     "execution_count": 19,
     "metadata": {},
     "output_type": "execute_result"
    }
   ],
   "source": [
    "axes = sb.jointplot(\n",
    "    x=image_areas, y=image_perimeters,\n",
    "    joint_kws={'alpha': 0.1}, \n",
    "    marginal_kws={'bins': 200},\n",
    ")\n",
    "axes.ax_joint.plot(xs, ys, 'C1')"
   ]
  },
  {
   "cell_type": "markdown",
   "metadata": {},
   "source": [
    "# Making an interactive plot"
   ]
  },
  {
   "cell_type": "code",
   "execution_count": 20,
   "metadata": {},
   "outputs": [
    {
     "name": "stderr",
     "output_type": "stream",
     "text": [
      "C:\\Users\\Chris.Musselle\\AppData\\Local\\Continuum\\anaconda3\\envs\\shape2ts\\lib\\site-packages\\skimage\\util\\dtype.py:135: UserWarning: Possible precision loss when converting from float64 to uint8\n",
      "  .format(dtypeobj_in, dtypeobj_out))\n"
     ]
    },
    {
     "name": "stdout",
     "output_type": "stream",
     "text": [
      "data:image/png;base64,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\n"
     ]
    }
   ],
   "source": [
    "from PIL import Image\n",
    "import io\n",
    "import base64\n",
    "import numpy\n",
    "from skimage.util import img_as_uint, img_as_ubyte\n",
    "from skimage.io import imsave\n",
    "\n",
    "encoded_data = []\n",
    "image_filenames = []\n",
    "for image in f['images'].keys():\n",
    "    data = f['images'][image]    \n",
    "    rawBytes = io.BytesIO()    \n",
    "    im = Image.fromarray(img_as_ubyte(np.array(data)))\n",
    "    im.save(rawBytes, \"PNG\")\n",
    "    rawBytes.seek(0) \n",
    "    encoded_image = base64.b64encode(rawBytes.read()).decode()\n",
    "    encoded_data.append(f'data:image/png;base64,{encoded_image}')\n",
    "    image_filenames.append(image)\n",
    "        \n",
    "print(encoded_data[0])\n"
   ]
  },
  {
   "cell_type": "markdown",
   "metadata": {},
   "source": [
    "## Area vs Perimeter"
   ]
  },
  {
   "cell_type": "code",
   "execution_count": 21,
   "metadata": {},
   "outputs": [],
   "source": [
    "from bokeh.plotting import ColumnDataSource, figure, output_file, show\n",
    "\n",
    "output_file(\"toolbar.html\")\n",
    "\n",
    "source = ColumnDataSource(data=dict(\n",
    "    x=image_areas,\n",
    "    y=image_perimeters,\n",
    "#     desc=['A', 'b', 'C', 'd', 'E'],\n",
    "    imgs=encoded_data,\n",
    "    filenames=image_filenames\n",
    "))\n",
    "\n",
    "TOOLTIPS = \"\"\"\n",
    "    <div>\n",
    "        <div>\n",
    "            <img\n",
    "                src=\"@imgs\" height=\"100\" width=\"100\"\n",
    "                style=\"float: left; margin: 0px 15px 15px 0px;\"\n",
    "                border=\"2\"\n",
    "            ></img>\n",
    "        </div>\n",
    "        <div>\n",
    "            <span style=\"font-size: 17px; font-weight: bold;\">@filenames</span>\n",
    "            <span style=\"font-size: 15px; color: #966;\">[$index]</span>\n",
    "        </div>\n",
    "    </div>\n",
    "\"\"\"\n",
    "\n",
    "p = figure(plot_width=1500, plot_height=700, tooltips=TOOLTIPS,\n",
    "           title=\"Mouse over the dots\")\n",
    "\n",
    "p.circle('x', 'y', size=10, source=source, fill_alpha=0.3, line_alpha=0.3)\n",
    "\n",
    "show(p)\n"
   ]
  },
  {
   "cell_type": "markdown",
   "metadata": {},
   "source": [
    "## Ecsentricity vs perimeter"
   ]
  },
  {
   "cell_type": "code",
   "execution_count": 42,
   "metadata": {},
   "outputs": [],
   "source": [
    "from bokeh.plotting import ColumnDataSource, figure, output_file, show\n",
    "\n",
    "output_file(\"toolbar.html\")\n",
    "\n",
    "source = ColumnDataSource(data=dict(\n",
    "    x=image_eccentricity,\n",
    "    y=image_areas,\n",
    "#     desc=['A', 'b', 'C', 'd', 'E'],\n",
    "    imgs=encoded_data,\n",
    "    filenames=image_filenames\n",
    "))\n",
    "\n",
    "TOOLTIPS = \"\"\"\n",
    "    <div>\n",
    "        <div>\n",
    "            <img\n",
    "                src=\"@imgs\" height=\"100\" width=\"100\"\n",
    "                style=\"float: left; margin: 0px 15px 15px 0px;\"\n",
    "                border=\"2\"\n",
    "            ></img>\n",
    "        </div>\n",
    "        <div>\n",
    "            <span style=\"font-size: 17px; font-weight: bold;\">@filenames</span>\n",
    "            <span style=\"font-size: 15px; color: #966;\">[$index]</span>\n",
    "        </div>\n",
    "    </div>\n",
    "\"\"\"\n",
    "\n",
    "p = figure(plot_width=1500, plot_height=700, tooltips=TOOLTIPS,\n",
    "           title=\"Mouse over the dots\")\n",
    "\n",
    "p.circle('x', 'y', size=10, source=source, fill_alpha=0.3, line_alpha=0.3)\n",
    "\n",
    "show(p)\n"
   ]
  },
  {
   "cell_type": "code",
   "execution_count": 57,
   "metadata": {},
   "outputs": [],
   "source": [
    "show(p)"
   ]
  },
  {
   "cell_type": "markdown",
   "metadata": {},
   "source": [
    "# Filter to a Data Subset"
   ]
  },
  {
   "cell_type": "code",
   "execution_count": 49,
   "metadata": {},
   "outputs": [],
   "source": [
    "min_area = 500\n",
    "max_area = 80_000\n",
    "\n",
    "\n",
    "images = []\n",
    "\n",
    "for image in f['images'].keys():\n",
    "    contour = f['contours'][f'{image}-0']\n",
    "\n",
    "    value = contour.attrs['area']\n",
    "    if value < min_area or value > max_area:\n",
    "        continue\n",
    "    value = contour.attrs['eccentricity']\n",
    "    if value < 0.1:\n",
    "        continue\n",
    "            \n",
    "    images.append(contour)"
   ]
  },
  {
   "cell_type": "code",
   "execution_count": 50,
   "metadata": {},
   "outputs": [
    {
     "data": {
      "text/plain": [
       "7400"
      ]
     },
     "execution_count": 50,
     "metadata": {},
     "output_type": "execute_result"
    }
   ],
   "source": [
    "len(images)"
   ]
  },
  {
   "cell_type": "code",
   "execution_count": 45,
   "metadata": {},
   "outputs": [],
   "source": [
    "x = 10\n"
   ]
  },
  {
   "cell_type": "code",
   "execution_count": 48,
   "metadata": {},
   "outputs": [
    {
     "data": {
      "text/plain": [
       "False"
      ]
     },
     "execution_count": 48,
     "metadata": {},
     "output_type": "execute_result"
    }
   ],
   "source": [
    "15 < x <= 20"
   ]
  },
  {
   "cell_type": "code",
   "execution_count": null,
   "metadata": {},
   "outputs": [],
   "source": []
  }
 ],
 "metadata": {
  "file_extension": ".py",
  "kernelspec": {
   "display_name": "Python 3.7.4 64-bit ('shape2ts': conda)",
   "language": "python",
   "name": "python37464bitshape2tsconda38bafda77e3b40e588e15e53b63d411d"
  },
  "language_info": {
   "codemirror_mode": {
    "name": "ipython",
    "version": 3
   },
   "file_extension": ".py",
   "mimetype": "text/x-python",
   "name": "python",
   "nbconvert_exporter": "python",
   "pygments_lexer": "ipython3",
   "version": "3.7.4"
  },
  "mimetype": "text/x-python",
  "name": "python",
  "npconvert_exporter": "python",
  "pygments_lexer": "ipython3",
  "version": 3
 },
 "nbformat": 4,
 "nbformat_minor": 4
}
